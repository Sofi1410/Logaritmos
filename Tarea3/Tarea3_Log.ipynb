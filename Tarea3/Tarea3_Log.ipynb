{
  "nbformat": 4,
  "nbformat_minor": 0,
  "metadata": {
    "colab": {
      "name": "Tarea3_Log.ipynb",
      "provenance": [],
      "collapsed_sections": []
    },
    "kernelspec": {
      "name": "python3",
      "display_name": "Python 3"
    },
    "language_info": {
      "name": "python"
    }
  },
  "cells": [
    {
      "cell_type": "code",
      "metadata": {
        "id": "KKJR9YmoZlsu"
      },
      "source": [
        "import random\n",
        "import sys\n",
        "\n",
        "def createData(N , fileName):\n",
        "  '''\n",
        "  Recibe un valor N (int) y nombre de archivo fileName (str) \n",
        "  Crea en el archivo fileName una secuencia \n",
        "  ordenada de N líneas, con valores aleatorios\n",
        "  '''\n",
        "  data = open(str(fileName) + \".txt\", \"w+\")\n",
        "\n",
        "  data_array = []\n",
        "\n",
        "  for i in range(N):\n",
        "      data_array.append(random.randint(0, sys.maxsize))\n",
        "\n",
        "  data_array.sort()\n",
        "\n",
        "  for element in data_array:\n",
        "      data.write(str(element) + \"\\n\")\n",
        "\n",
        "  data.close()\n",
        "\n",
        "\n",
        "createData(10000, \"test\")"
      ],
      "execution_count": null,
      "outputs": []
    },
    {
      "cell_type": "code",
      "metadata": {
        "id": "DEuDamq8Cs0b"
      },
      "source": [
        "def read_block(filename, position=None):\n",
        "  '''\n",
        "  Función auxiliar que permite leer 1 bloque \n",
        "  (se leen 50 líneas)\n",
        "  '''\n",
        "  with open(filename, 'r') as f:\n",
        "    lista=[]\n",
        "    i=0\n",
        "    while( len(lista) <50):\n",
        "      if(i > position -1 and i < position +50):\n",
        "        element=f.readline()\n",
        "        lista.append(int(element.strip()))\n",
        "      else:\n",
        "        f.readline()\n",
        "      i+=1\n",
        "  return lista"
      ],
      "execution_count": null,
      "outputs": []
    },
    {
      "cell_type": "code",
      "metadata": {
        "colab": {
          "base_uri": "https://localhost:8080/"
        },
        "id": "CJwwn57UG4CR",
        "outputId": "ea1629ad-4656-411b-e1ba-2c7107844010"
      },
      "source": [
        "\n",
        "def reading_file(filePath):\n",
        "  \"\"\n",
        "  \n",
        "  \"\"\n",
        "  with open(filePath, 'r') as f:\n",
        "    lista=[]\n",
        "    linea=f.readline()\n",
        "    while( linea):\n",
        "      lista.append(int(linea.strip()))\n",
        "      linea= f.readline()\n",
        "    return lista\n"
      ],
      "execution_count": null,
      "outputs": [
        {
          "output_type": "execute_result",
          "data": {
            "text/plain": [
              "True"
            ]
          },
          "metadata": {
            "tags": []
          },
          "execution_count": 55
        }
      ]
    },
    {
      "cell_type": "code",
      "metadata": {
        "id": "YeFRpPaDaHrO",
        "colab": {
          "base_uri": "https://localhost:8080/"
        },
        "outputId": "1eb65baa-0830-4337-8143-68700133d04c"
      },
      "source": [
        "import numpy as np\n",
        "from math import sqrt, ceil, floor\n",
        "def busquedaBinaria(filePath, item, N):\n",
        "  '''\n",
        "  utilizando el algoritmo de búsqueda binaria sin optimizaciones \n",
        "  busca un valor entero x en el archivo ordenado file\n",
        "  '''\n",
        "  position=0\n",
        "  encontrado = False\n",
        "  idx = 0\n",
        "  for cluster in range(ceil(N/50)):\n",
        "    primero = 0\n",
        "    nList = read_block(filePath, position)\n",
        "    ultimo = len(nList)-1\n",
        "    while primero<=ultimo and not encontrado:\n",
        "        \n",
        "        puntoMedio = (primero + ultimo)//2\n",
        "        if nList[puntoMedio] == item:\n",
        "            encontrado = True\n",
        "            idx = puntoMedio+cluster*50\n",
        "        else:\n",
        "            if item < nList[puntoMedio]:\n",
        "                ultimo = puntoMedio-1\n",
        "            else:\n",
        "                primero = puntoMedio+1\n",
        "    position +=50\n",
        "\n",
        "\n",
        "  return encontrado , idx\n",
        "\n",
        "busquedaBinaria(\"/content/test.txt\", 9178657758760160160, 10000)"
      ],
      "execution_count": null,
      "outputs": [
        {
          "output_type": "execute_result",
          "data": {
            "text/plain": [
              "(False, 0)"
            ]
          },
          "metadata": {
            "tags": []
          },
          "execution_count": 13
        }
      ]
    },
    {
      "cell_type": "code",
      "metadata": {
        "id": "YK9-haLgeXjM"
      },
      "source": [
        "#c\n",
        "import math\n",
        "\n",
        "vEBThreshold = 4\n",
        "class static_vEB_Leaf:\n",
        "  def __init__(this, data):\n",
        "    assert(len(data) < vEBThreshold)\n",
        "    this.data=data\n",
        "  \n",
        "  def vEBTreeSearch(this,x):\n",
        "    for r in range(len(this.data)):\n",
        "      a= this.data[r]\n",
        "      if x==a:\n",
        "        return True\n",
        "    return False\n",
        "  \n",
        "  def rank(this,x):\n",
        "    for r in range(len(this.data)):\n",
        "      if x <= this.data[r]:\n",
        "        return r\n",
        "    return len(this.data)\n",
        "    \n",
        "class static_vEB_Node:\n",
        "  def __init__(this,data,depth=0):\n",
        "    assert(len(data) >= vEBThreshold)\n",
        "    this.recursiveDepth = depth\n",
        "    this.d = ceil(sqrt(len(data))) # degree of the node\n",
        "    this.blockSize = ceil(len(data)/this.d) # maxBlockSize (last block might be one element less) \n",
        "    unOrderedRoot=[]\n",
        "    unOrderedChildren=[]\n",
        "    this.separators = [] # more to clarify the display than anything else\n",
        "    for i in range(this.d-1):\n",
        "      unOrderedChildren.append(data[0:this.blockSize])\n",
        "      unOrderedRoot.append(data[min(len(data), this.blockSize)-1]) # Take last element as separator\n",
        "      this.separators.append(data[min(len(data), this.blockSize)-1])\n",
        "      data = data[this.blockSize:]\n",
        "    assert len(data) <= this.blockSize\n",
        "    unOrderedChildren.append(data)\n",
        "    this.root = static_vEB_Tree(unOrderedRoot,depth+1)\n",
        "    this.children = [] \n",
        "    for i in range(this.d):\n",
        "      this.children.append(static_vEB_Tree(unOrderedChildren[i],depth+1))\n",
        "    \n",
        "  def rank(this,x):\n",
        "    rankInRoot = this.root.rank(x)\n",
        "    rankInChild = this.children[rankInRoot].rank(x)\n",
        "    return rankInRoot*this.blockSize + rankInChild\n",
        "\n",
        "  def vEBTreeSearch(this,x):\n",
        "    rankInRoot = this.root.rank(x)\n",
        "    if rankInRoot <len(this.children):\n",
        "      return this.children[rankInRoot].vEBTreeSearch(x)\n",
        "    else: \n",
        "      return False\n",
        "\n",
        "\n",
        "class static_vEB_Tree( object):\n",
        "    \n",
        "\n",
        "  def __init__(this,data,depth=0):\n",
        "    \"\"\"Given an array data of pairs coding for a supposedly large dictionary\n",
        "    reorder it into a cache-oblivious dictionary.\"\"\"\n",
        "    this.size = len(data)\n",
        "    if len(data) < vEBThreshold :\n",
        "      this.tree = static_vEB_Leaf(data)\n",
        "    else:\n",
        "      this.tree = static_vEB_Node(data)\n",
        "\n",
        "  def vEBTreeSearch(this,x):\n",
        "    return this.tree.vEBTreeSearch(x)\n",
        "    \n",
        "  def rank(this,x):\n",
        "    return this.tree.rank(x)\n",
        "\n",
        "  \n",
        " \n",
        "\n",
        "\n",
        "    \n",
        "\n"
      ],
      "execution_count": null,
      "outputs": []
    },
    {
      "cell_type": "code",
      "metadata": {
        "id": "2Eg-ElgHBPxc"
      },
      "source": [
        "a=static_vEB_Tree([4,12,15,112, 200, 340, 678, 1000])"
      ],
      "execution_count": null,
      "outputs": []
    },
    {
      "cell_type": "code",
      "metadata": {
        "id": "EmfnhVRKaHR-",
        "colab": {
          "base_uri": "https://localhost:8080/"
        },
        "outputId": "fc56e60d-922d-429f-8fb3-27c9d4c0f0d7"
      },
      "source": [
        "a.vEBTreeSearch(1000)\n"
      ],
      "execution_count": null,
      "outputs": [
        {
          "output_type": "execute_result",
          "data": {
            "text/plain": [
              "True"
            ]
          },
          "metadata": {
            "tags": []
          },
          "execution_count": 58
        }
      ]
    },
    {
      "cell_type": "markdown",
      "metadata": {
        "id": "fSvPIE_CKsWt"
      },
      "source": [
        "Experimentos:"
      ]
    },
    {
      "cell_type": "code",
      "metadata": {
        "id": "qqg1XiBULA_8"
      },
      "source": [
        "#Cargar datos para experimento 1:\n"
      ],
      "execution_count": null,
      "outputs": []
    }
  ]
}